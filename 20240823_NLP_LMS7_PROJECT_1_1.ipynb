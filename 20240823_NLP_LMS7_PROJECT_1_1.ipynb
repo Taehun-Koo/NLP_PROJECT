{
  "nbformat": 4,
  "nbformat_minor": 0,
  "metadata": {
    "colab": {
      "provenance": [],
      "gpuType": "A100",
      "machine_shape": "hm"
    },
    "kernelspec": {
      "name": "python3",
      "display_name": "Python 3"
    },
    "language_info": {
      "name": "python"
    },
    "accelerator": "GPU"
  },
  "cells": [
    {
      "cell_type": "markdown",
      "source": [
        "# 7-1. 프로젝트: 한국어 데이터로 챗봇 만들기\n",
        "# 2024.8.23\n",
        "# 16:14 ~ 22:00\n",
        "# 8:00 ~ 12:00\n",
        "# 구태훈"
      ],
      "metadata": {
        "id": "FUZOKMd4goRT"
      }
    },
    {
      "cell_type": "markdown",
      "source": [
        "Step 1. 데이터 수집하기\n",
        "\n",
        "한국어 챗봇 데이터는 송영숙님이 공개한 챗봇 데이터를 사용합니다.\n",
        "\n"
      ],
      "metadata": {
        "id": "FB9sTZuwgoB6"
      }
    },
    {
      "cell_type": "code",
      "source": [
        "from google.colab import drive\n",
        "drive.mount('/content/drive')"
      ],
      "metadata": {
        "colab": {
          "base_uri": "https://localhost:8080/"
        },
        "id": "00u54FO8go4u",
        "outputId": "3b753214-7a15-4a59-bfd2-17fd24e8667b"
      },
      "execution_count": 5,
      "outputs": [
        {
          "output_type": "stream",
          "name": "stdout",
          "text": [
            "Drive already mounted at /content/drive; to attempt to forcibly remount, call drive.mount(\"/content/drive\", force_remount=True).\n"
          ]
        }
      ]
    },
    {
      "cell_type": "code",
      "execution_count": 6,
      "metadata": {
        "colab": {
          "base_uri": "https://localhost:8080/"
        },
        "id": "0eJe6_V4v7Oy",
        "outputId": "604b3c57-ceae-4b90-f2c2-d568d6667363"
      },
      "outputs": [
        {
          "output_type": "stream",
          "name": "stdout",
          "text": [
            "2.17.0\n",
            "                 Q            A  label\n",
            "0           12시 땡!   하루가 또 가네요.      0\n",
            "1      1지망 학교 떨어졌어    위로해 드립니다.      0\n",
            "2     3박4일 놀러가고 싶다  여행은 언제나 좋죠.      0\n",
            "3  3박4일 정도 놀러가고 싶다  여행은 언제나 좋죠.      0\n",
            "4          PPL 심하네   눈살이 찌푸려지죠.      0\n",
            "(11823, 3)\n"
          ]
        }
      ],
      "source": [
        "import tensorflow as tf\n",
        "import pandas as pd\n",
        "import numpy as np\n",
        "import re\n",
        "import matplotlib.pyplot as plt\n",
        "\n",
        "print(tf.__version__)\n",
        "\n",
        "# 데이터 파일 경로\n",
        "file_path = '/content/drive/MyDrive/Colab Notebooks/DS2/NLP/\b20240823/ChatbotData .csv'\n",
        "\n",
        "# CSV 파일 읽기\n",
        "data = pd.read_csv(file_path)\n",
        "\n",
        "# 데이터 확인\n",
        "print(data.head())\n",
        "print(data.shape)"
      ]
    },
    {
      "cell_type": "markdown",
      "source": [
        "Step 2. 데이터 전처리하기\n",
        "\n",
        "영어 데이터와는 전혀 다른 데이터인 만큼 영어 데이터에 사용했던 전처리와 일부 동일한 전처리도 필요하겠지만 전체적으로는 다른 전처리를 수행해야 할 수도 있습니다.\n",
        "\n"
      ],
      "metadata": {
        "id": "LvflnXL3iyaK"
      }
    },
    {
      "cell_type": "code",
      "source": [
        "# 특수 문자 제거 함수\n",
        "def preprocess_sentence(sentence):\n",
        "    sentence = re.sub(r\"([?.!,])\", r\" \\1 \", sentence)\n",
        "    sentence = re.sub(r'[\" \"]+', \" \", sentence)\n",
        "    sentence = re.sub(r\"[^가-힣?.!,]+\", \" \", sentence)\n",
        "    sentence = sentence.strip()\n",
        "    return sentence\n",
        "\n",
        "# 질문과 답변 데이터 전처리\n",
        "questions = data['Q'].apply(preprocess_sentence).tolist()\n",
        "answers = data['A'].apply(preprocess_sentence).tolist()\n",
        "\n",
        "print('전처리 후의 22번째 질문 샘플:', questions[21])\n",
        "print('전처리 후의 22번째 답변 샘플:', answers[21])\n",
        "\n",
        "# 질문과 답변의 최대 길이 확인\n",
        "print('질문의 최대 길이 :', max(len(question.split()) for question in questions))\n",
        "print('답변의 최대 길이 :', max(len(answer.split()) for answer in answers))\n",
        "\n",
        "# 데이터의 분포 시각화\n",
        "plt.figure(figsize=(12, 5))\n",
        "plt.subplot(1, 2, 1)\n",
        "plt.hist([len(question.split()) for question in questions], bins=50)\n",
        "plt.title('질문 길이 분포')\n",
        "plt.xlabel('단어 수')\n",
        "plt.ylabel('문장 수')\n",
        "\n",
        "plt.subplot(1, 2, 2)\n",
        "plt.hist([len(answer.split()) for answer in answers], bins=50)\n",
        "plt.title('답변 길이 분포')\n",
        "plt.xlabel('단어 수')\n",
        "plt.ylabel('문장 수')\n",
        "\n",
        "plt.tight_layout()\n",
        "plt.show()\n",
        "\n",
        "# 데이터 크기 제한 (선택사항)\n",
        "MAX_SAMPLES = 50000\n",
        "questions = questions[:MAX_SAMPLES]\n",
        "answers = answers[:MAX_SAMPLES]\n",
        "\n",
        "print('질문 데이터 개수 :', len(questions))\n",
        "print('답변 데이터 개수 :', len(answers))"
      ],
      "metadata": {
        "colab": {
          "base_uri": "https://localhost:8080/",
          "height": 1000
        },
        "id": "Nyw4boO3udRT",
        "outputId": "5838d87d-01f6-4373-8d25-b83f499d3523"
      },
      "execution_count": 7,
      "outputs": [
        {
          "output_type": "stream",
          "name": "stdout",
          "text": [
            "전처리 후의 22번째 질문 샘플: 가스비 장난 아님\n",
            "전처리 후의 22번째 답변 샘플: 다음 달에는 더 절약해봐요 .\n",
            "질문의 최대 길이 : 16\n",
            "답변의 최대 길이 : 24\n"
          ]
        },
        {
          "output_type": "stream",
          "name": "stderr",
          "text": [
            "<ipython-input-7-3047eba0fee2>:36: UserWarning: Glyph 45800 (\\N{HANGUL SYLLABLE DAN}) missing from current font.\n",
            "  plt.tight_layout()\n",
            "<ipython-input-7-3047eba0fee2>:36: UserWarning: Glyph 50612 (\\N{HANGUL SYLLABLE EO}) missing from current font.\n",
            "  plt.tight_layout()\n",
            "<ipython-input-7-3047eba0fee2>:36: UserWarning: Glyph 49688 (\\N{HANGUL SYLLABLE SU}) missing from current font.\n",
            "  plt.tight_layout()\n",
            "<ipython-input-7-3047eba0fee2>:36: UserWarning: Glyph 47928 (\\N{HANGUL SYLLABLE MUN}) missing from current font.\n",
            "  plt.tight_layout()\n",
            "<ipython-input-7-3047eba0fee2>:36: UserWarning: Glyph 51109 (\\N{HANGUL SYLLABLE JANG}) missing from current font.\n",
            "  plt.tight_layout()\n",
            "<ipython-input-7-3047eba0fee2>:36: UserWarning: Glyph 51656 (\\N{HANGUL SYLLABLE JIL}) missing from current font.\n",
            "  plt.tight_layout()\n",
            "<ipython-input-7-3047eba0fee2>:36: UserWarning: Glyph 44600 (\\N{HANGUL SYLLABLE GIL}) missing from current font.\n",
            "  plt.tight_layout()\n",
            "<ipython-input-7-3047eba0fee2>:36: UserWarning: Glyph 51060 (\\N{HANGUL SYLLABLE I}) missing from current font.\n",
            "  plt.tight_layout()\n",
            "<ipython-input-7-3047eba0fee2>:36: UserWarning: Glyph 48516 (\\N{HANGUL SYLLABLE BUN}) missing from current font.\n",
            "  plt.tight_layout()\n",
            "<ipython-input-7-3047eba0fee2>:36: UserWarning: Glyph 54252 (\\N{HANGUL SYLLABLE PO}) missing from current font.\n",
            "  plt.tight_layout()\n",
            "<ipython-input-7-3047eba0fee2>:36: UserWarning: Glyph 45813 (\\N{HANGUL SYLLABLE DAB}) missing from current font.\n",
            "  plt.tight_layout()\n",
            "<ipython-input-7-3047eba0fee2>:36: UserWarning: Glyph 48320 (\\N{HANGUL SYLLABLE BYEON}) missing from current font.\n",
            "  plt.tight_layout()\n",
            "/usr/local/lib/python3.10/dist-packages/IPython/core/pylabtools.py:151: UserWarning: Glyph 47928 (\\N{HANGUL SYLLABLE MUN}) missing from current font.\n",
            "  fig.canvas.print_figure(bytes_io, **kw)\n",
            "/usr/local/lib/python3.10/dist-packages/IPython/core/pylabtools.py:151: UserWarning: Glyph 51109 (\\N{HANGUL SYLLABLE JANG}) missing from current font.\n",
            "  fig.canvas.print_figure(bytes_io, **kw)\n",
            "/usr/local/lib/python3.10/dist-packages/IPython/core/pylabtools.py:151: UserWarning: Glyph 49688 (\\N{HANGUL SYLLABLE SU}) missing from current font.\n",
            "  fig.canvas.print_figure(bytes_io, **kw)\n",
            "/usr/local/lib/python3.10/dist-packages/IPython/core/pylabtools.py:151: UserWarning: Glyph 51656 (\\N{HANGUL SYLLABLE JIL}) missing from current font.\n",
            "  fig.canvas.print_figure(bytes_io, **kw)\n",
            "/usr/local/lib/python3.10/dist-packages/IPython/core/pylabtools.py:151: UserWarning: Glyph 44600 (\\N{HANGUL SYLLABLE GIL}) missing from current font.\n",
            "  fig.canvas.print_figure(bytes_io, **kw)\n",
            "/usr/local/lib/python3.10/dist-packages/IPython/core/pylabtools.py:151: UserWarning: Glyph 51060 (\\N{HANGUL SYLLABLE I}) missing from current font.\n",
            "  fig.canvas.print_figure(bytes_io, **kw)\n",
            "/usr/local/lib/python3.10/dist-packages/IPython/core/pylabtools.py:151: UserWarning: Glyph 48516 (\\N{HANGUL SYLLABLE BUN}) missing from current font.\n",
            "  fig.canvas.print_figure(bytes_io, **kw)\n",
            "/usr/local/lib/python3.10/dist-packages/IPython/core/pylabtools.py:151: UserWarning: Glyph 54252 (\\N{HANGUL SYLLABLE PO}) missing from current font.\n",
            "  fig.canvas.print_figure(bytes_io, **kw)\n",
            "/usr/local/lib/python3.10/dist-packages/IPython/core/pylabtools.py:151: UserWarning: Glyph 45800 (\\N{HANGUL SYLLABLE DAN}) missing from current font.\n",
            "  fig.canvas.print_figure(bytes_io, **kw)\n",
            "/usr/local/lib/python3.10/dist-packages/IPython/core/pylabtools.py:151: UserWarning: Glyph 50612 (\\N{HANGUL SYLLABLE EO}) missing from current font.\n",
            "  fig.canvas.print_figure(bytes_io, **kw)\n",
            "/usr/local/lib/python3.10/dist-packages/IPython/core/pylabtools.py:151: UserWarning: Glyph 45813 (\\N{HANGUL SYLLABLE DAB}) missing from current font.\n",
            "  fig.canvas.print_figure(bytes_io, **kw)\n",
            "/usr/local/lib/python3.10/dist-packages/IPython/core/pylabtools.py:151: UserWarning: Glyph 48320 (\\N{HANGUL SYLLABLE BYEON}) missing from current font.\n",
            "  fig.canvas.print_figure(bytes_io, **kw)\n"
          ]
        },
        {
          "output_type": "display_data",
          "data": {
            "text/plain": [
              "<Figure size 1200x500 with 2 Axes>"
            ],
            "image/png": "[encoded data removed]"
          },
          "metadata": {}
        },
        {
          "output_type": "stream",
          "name": "stdout",
          "text": [
            "질문 데이터 개수 : 11823\n",
            "답변 데이터 개수 : 11823\n"
          ]
        }
      ]
    },
    {
      "cell_type": "markdown",
      "source": [
        "Step 3. SubwordTextEncoder 사용하기\n",
        "\n",
        "한국어 데이터는 형태소 분석기를 사용하여 토크나이징을 해야 한다고 많은 분이 알고 있습니다. 하지만 여기서는 형태소 분석기가 아닌 위 실습에서 사용했던 내부 단어 토크나이저인 SubwordTextEncoder를 그대로 사용해보세요.\n",
        "\n"
      ],
      "metadata": {
        "id": "HIN2fiG5jAGZ"
      }
    },
    {
      "cell_type": "code",
      "source": [
        "import tensorflow_datasets as tfds\n",
        "\n",
        "# SubwordTextEncoder를 사용하여 텍스트를 토큰화하고 인코딩\n",
        "def tokenize_and_filter(inputs, outputs, max_length):\n",
        "    tokenizer = tfds.deprecated.text.SubwordTextEncoder.build_from_corpus(\n",
        "        inputs + outputs, target_vocab_size=2**13)\n",
        "\n",
        "    # 시작 토큰과 종료 토큰 정의\n",
        "    START_TOKEN, END_TOKEN = [tokenizer.vocab_size], [tokenizer.vocab_size + 1]\n",
        "\n",
        "    # 토큰화 및 패딩\n",
        "    tokenized_inputs, tokenized_outputs = [], []\n",
        "    for (sentence1, sentence2) in zip(inputs, outputs):\n",
        "        sentence1 = START_TOKEN + tokenizer.encode(sentence1) + END_TOKEN\n",
        "        sentence2 = START_TOKEN + tokenizer.encode(sentence2) + END_TOKEN\n",
        "\n",
        "        if len(sentence1) <= max_length and len(sentence2) <= max_length:\n",
        "            tokenized_inputs.append(sentence1)\n",
        "            tokenized_outputs.append(sentence2)\n",
        "\n",
        "    # 패딩\n",
        "    tokenized_inputs = tf.keras.preprocessing.sequence.pad_sequences(\n",
        "        tokenized_inputs, maxlen=max_length, padding='post')\n",
        "    tokenized_outputs = tf.keras.preprocessing.sequence.pad_sequences(\n",
        "        tokenized_outputs, maxlen=max_length, padding='post')\n",
        "\n",
        "    return tokenized_inputs, tokenized_outputs, tokenizer\n",
        "\n",
        "# 최대 문장 길이 설정 (이전 단계의 분석 결과를 바탕으로 설정)\n",
        "MAX_LENGTH = 40\n",
        "\n",
        "# 토큰화 및 패딩 적용\n",
        "questions_tok, answers_tok, tokenizer = tokenize_and_filter(questions, answers, MAX_LENGTH)\n",
        "\n",
        "# 어휘 사이즈 (시작 토큰과 종료 토큰 포함)\n",
        "VOCAB_SIZE = tokenizer.vocab_size + 2\n",
        "print('어휘 사이즈 :', VOCAB_SIZE)\n",
        "\n",
        "# 토큰화된 데이터 샘플 출력\n",
        "print('토큰화된 질문 (샘플):', questions_tok[0])\n",
        "print('토큰화된 답변 (샘플):', answers_tok[0])\n",
        "\n",
        "# 디코딩 예시\n",
        "def decode_sequence(sequence):\n",
        "    return tokenizer.decode([i for i in sequence if i < tokenizer.vocab_size])\n",
        "\n",
        "print('디코딩된 질문 (샘플):', decode_sequence(questions_tok[0]))\n",
        "print('디코딩된 답변 (샘플):', decode_sequence(answers_tok[0]))\n",
        "\n",
        "# 데이터셋 생성\n",
        "BATCH_SIZE = 32\n",
        "BUFFER_SIZE = 20000\n",
        "\n",
        "dataset = tf.data.Dataset.from_tensor_slices((\n",
        "    {\n",
        "        'inputs': questions_tok,\n",
        "        'dec_inputs': answers_tok[:, :-1]\n",
        "    },\n",
        "    answers_tok[:, 1:]\n",
        "))\n",
        "\n",
        "dataset = dataset.cache()\n",
        "dataset = dataset.shuffle(BUFFER_SIZE)\n",
        "dataset = dataset.batch(BATCH_SIZE)\n",
        "dataset = dataset.prefetch(tf.data.experimental.AUTOTUNE)\n",
        "\n",
        "print(\"데이터셋이 수정되었습니다.\")\n",
        "print(\"데이터셋 크기:\", len(list(dataset)))"
      ],
      "metadata": {
        "colab": {
          "base_uri": "https://localhost:8080/"
        },
        "id": "OKMIlULpzTlD",
        "outputId": "f78c98bd-659a-4e2d-e04b-49f3f53e176e"
      },
      "execution_count": 8,
      "outputs": [
        {
          "output_type": "stream",
          "name": "stdout",
          "text": [
            "어휘 사이즈 : 8129\n",
            "토큰화된 질문 (샘플): [8127 4188 3045   42 8128    0    0    0    0    0    0    0    0    0\n",
            "    0    0    0    0    0    0    0    0    0    0    0    0    0    0\n",
            "    0    0    0    0    0    0    0    0    0    0    0    0]\n",
            "토큰화된 답변 (샘플): [8127 3831   74 7861    1 8128    0    0    0    0    0    0    0    0\n",
            "    0    0    0    0    0    0    0    0    0    0    0    0    0    0\n",
            "    0    0    0    0    0    0    0    0    0    0    0    0]\n",
            "디코딩된 질문 (샘플): 시 땡 !\n",
            "디코딩된 답변 (샘플): 하루가 또 가네요 .\n",
            "데이터셋이 수정되었습니다.\n",
            "데이터셋 크기: 370\n"
          ]
        }
      ]
    },
    {
      "cell_type": "markdown",
      "source": [
        "Step 4. 모델 구성하기\n",
        "\n",
        "위 실습 내용을 참고하여 트랜스포머 모델을 구현합니다.\n",
        "\n"
      ],
      "metadata": {
        "id": "xf0cV3SkjG9G"
      }
    },
    {
      "cell_type": "markdown",
      "source": [
        "Step 4-1: 포지셔널 인코딩과 스케일드 닷 프로덕트 어텐션\n"
      ],
      "metadata": {
        "id": "_N--N-wDXN9f"
      }
    },
    {
      "cell_type": "code",
      "source": [
        "import numpy as np\n",
        "import tensorflow as tf\n",
        "\n",
        "class PositionalEncoding(tf.keras.layers.Layer):\n",
        "    def __init__(self, position, d_model):\n",
        "        super(PositionalEncoding, self).__init__()\n",
        "        self.pos_encoding = self.positional_encoding(position, d_model)\n",
        "\n",
        "    def get_angles(self, position, i, d_model):\n",
        "        angles = 1 / np.power(10000, (2 * (i//2)) / np.float32(d_model))\n",
        "        return position * angles\n",
        "\n",
        "    def positional_encoding(self, position, d_model):\n",
        "        angle_rads = self.get_angles(\n",
        "            np.arange(position)[:, np.newaxis],\n",
        "            np.arange(d_model)[np.newaxis, :],\n",
        "            d_model\n",
        "        )\n",
        "\n",
        "        # 짝수 인덱스에는 sin 적용\n",
        "        sines = np.sin(angle_rads[:, 0::2])\n",
        "        # 홀수 인덱스에는 cos 적용\n",
        "        cosines = np.cos(angle_rads[:, 1::2])\n",
        "\n",
        "        pos_encoding = np.concatenate([sines, cosines], axis=-1)\n",
        "        pos_encoding = pos_encoding[np.newaxis, ...]\n",
        "\n",
        "        return tf.cast(pos_encoding, dtype=tf.float32)\n",
        "\n",
        "    def call(self, inputs):\n",
        "        # SparseTensor을 DenseTensor로 변환\n",
        "        if isinstance(inputs, tf.SparseTensor):\n",
        "            inputs = tf.sparse.to_dense(inputs)\n",
        "        return inputs + self.pos_encoding[:, :tf.shape(inputs)[1], :]\n",
        "\n",
        "    def compute_output_shape(self, input_shape):\n",
        "        return input_shape\n",
        "\n",
        "    def get_config(self):\n",
        "        config = super().get_config()\n",
        "        config.update({\n",
        "            \"position\": self.pos_encoding.shape[1],\n",
        "            \"d_model\": self.pos_encoding.shape[2]\n",
        "        })\n",
        "        return config\n",
        "\n",
        "def scaled_dot_product_attention(query, key, value, mask):\n",
        "    matmul_qk = tf.matmul(query, key, transpose_b=True)\n",
        "\n",
        "    depth = tf.cast(tf.shape(key)[-1], tf.float32)\n",
        "    logits = matmul_qk / tf.math.sqrt(depth)\n",
        "\n",
        "    if mask is not None:\n",
        "        logits += (mask * -1e9)\n",
        "\n",
        "    attention_weights = tf.nn.softmax(logits, axis=-1)\n",
        "    output = tf.matmul(attention_weights, value)\n",
        "\n",
        "    return output\n",
        "\n",
        "print(\"scaled_dot_product_attention 함수가 수정되었습니다.\")\n",
        "\n",
        "print(\"포지셔널 인코딩과 스케일드 닷 프로덕트 어텐션 함수가 정의되었습니다.\")"
      ],
      "metadata": {
        "colab": {
          "base_uri": "https://localhost:8080/"
        },
        "id": "4JHcBL4fXFQm",
        "outputId": "ceb72b2e-3188-4ba4-d482-2d349886794b"
      },
      "execution_count": 9,
      "outputs": [
        {
          "output_type": "stream",
          "name": "stdout",
          "text": [
            "scaled_dot_product_attention 함수가 수정되었습니다.\n",
            "포지셔널 인코딩과 스케일드 닷 프로덕트 어텐션 함수가 정의되었습니다.\n"
          ]
        }
      ]
    },
    {
      "cell_type": "markdown",
      "source": [
        "Step 4-2: 멀티헤드 어텐션 레이어\n"
      ],
      "metadata": {
        "id": "b9UtcnxVXQ5K"
      }
    },
    {
      "cell_type": "code",
      "source": [
        "class MultiHeadAttention(tf.keras.layers.Layer):\n",
        "    def __init__(self, d_model, num_heads, name=\"multi_head_attention\"):\n",
        "        super(MultiHeadAttention, self).__init__(name=name)\n",
        "        self.num_heads = num_heads\n",
        "        self.d_model = d_model\n",
        "\n",
        "        assert d_model % self.num_heads == 0\n",
        "\n",
        "        self.depth = d_model // self.num_heads\n",
        "\n",
        "        self.query_dense = tf.keras.layers.Dense(units=d_model)\n",
        "        self.key_dense = tf.keras.layers.Dense(units=d_model)\n",
        "        self.value_dense = tf.keras.layers.Dense(units=d_model)\n",
        "\n",
        "        self.dense = tf.keras.layers.Dense(units=d_model)\n",
        "\n",
        "    def split_heads(self, inputs, batch_size):\n",
        "        inputs = tf.reshape(\n",
        "            inputs, shape=(batch_size, -1, self.num_heads, self.depth))\n",
        "        return tf.transpose(inputs, perm=[0, 2, 1, 3])\n",
        "\n",
        "    def call(self, inputs):\n",
        "        query, key, value, mask = inputs['query'], inputs['key'], inputs['value'], inputs['mask']\n",
        "        batch_size = tf.shape(query)[0]\n",
        "\n",
        "        query = self.query_dense(query)\n",
        "        key = self.key_dense(key)\n",
        "        value = self.value_dense(value)\n",
        "\n",
        "        query = self.split_heads(query, batch_size)\n",
        "        key = self.split_heads(key, batch_size)\n",
        "        value = self.split_heads(value, batch_size)\n",
        "\n",
        "        scaled_attention = scaled_dot_product_attention(query, key, value, mask)\n",
        "        scaled_attention = tf.transpose(scaled_attention, perm=[0, 2, 1, 3])\n",
        "\n",
        "        concat_attention = tf.reshape(scaled_attention, (batch_size, -1, self.d_model))\n",
        "        outputs = self.dense(concat_attention)\n",
        "\n",
        "        return outputs\n",
        "\n",
        "    def compute_output_shape(self, input_shape):\n",
        "        return input_shape['query'][:-1] + (self.d_model,)\n",
        "\n",
        "    def get_config(self):\n",
        "        config = super().get_config()\n",
        "        config.update({\n",
        "            \"d_model\": self.d_model,\n",
        "            \"num_heads\": self.num_heads\n",
        "        })\n",
        "        return config\n",
        "\n",
        "print(\"멀티헤드 어텐션 레이어가 수정되었습니다.\")"
      ],
      "metadata": {
        "colab": {
          "base_uri": "https://localhost:8080/"
        },
        "id": "_GM_NL65XRS7",
        "outputId": "d85eb224-d48c-448a-fe0e-78217174c9cb"
      },
      "execution_count": 10,
      "outputs": [
        {
          "output_type": "stream",
          "name": "stdout",
          "text": [
            "멀티헤드 어텐션 레이어가 수정되었습니다.\n"
          ]
        }
      ]
    },
    {
      "cell_type": "markdown",
      "source": [
        "Step 4-3: 인코더 레이어\n"
      ],
      "metadata": {
        "id": "Z_AIhKb2XsN0"
      }
    },
    {
      "cell_type": "code",
      "source": [
        "\n",
        "def encoder_layer(units, d_model, num_heads, dropout, name=\"encoder_layer\"):\n",
        "    inputs = tf.keras.Input(shape=(None, d_model), name=\"inputs\")\n",
        "    padding_mask = tf.keras.Input(shape=(1, 1, None), name=\"padding_mask\")\n",
        "\n",
        "    attention = MultiHeadAttention(\n",
        "        d_model, num_heads, name=\"attention\")({\n",
        "            'query': inputs,\n",
        "            'key': inputs,\n",
        "            'value': inputs,\n",
        "            'mask': padding_mask\n",
        "        })\n",
        "    attention = tf.keras.layers.Dropout(rate=dropout)(attention)\n",
        "    attention = tf.keras.layers.LayerNormalization(epsilon=1e-6)(inputs + attention)\n",
        "\n",
        "    outputs = tf.keras.layers.Dense(units=units, activation='relu')(attention)\n",
        "    outputs = tf.keras.layers.Dense(units=d_model)(outputs)\n",
        "    outputs = tf.keras.layers.Dropout(rate=dropout)(outputs)\n",
        "    outputs = tf.keras.layers.LayerNormalization(epsilon=1e-6)(attention + outputs)\n",
        "\n",
        "    return tf.keras.Model(inputs=[inputs, padding_mask], outputs=outputs, name=name)\n",
        "\n",
        "\n",
        "\n",
        "def encoder(vocab_size, num_layers, units, d_model, num_heads, dropout, name=\"encoder\"):\n",
        "    inputs = tf.keras.Input(shape=(None,), name=\"inputs\")\n",
        "    padding_mask = tf.keras.Input(shape=(1, 1, None), name=\"padding_mask\")\n",
        "\n",
        "    embeddings = tf.keras.layers.Embedding(vocab_size, d_model)(inputs)\n",
        "    embeddings *= tf.math.sqrt(tf.cast(d_model, tf.float32))\n",
        "    positional_encoding = PositionalEncoding(vocab_size, d_model)\n",
        "    embeddings = positional_encoding(embeddings)\n",
        "\n",
        "    outputs = tf.keras.layers.Dropout(rate=dropout)(embeddings)\n",
        "\n",
        "    for i in range(num_layers):\n",
        "        outputs = encoder_layer(\n",
        "            units=units,\n",
        "            d_model=d_model,\n",
        "            num_heads=num_heads,\n",
        "            dropout=dropout,\n",
        "            name=f\"encoder_layer_{i}\",\n",
        "        )([outputs, padding_mask])\n",
        "\n",
        "    return tf.keras.Model(inputs=[inputs, padding_mask], outputs=outputs, name=name)\n",
        "\n",
        "print(\"인코더 레이어와 전체 인코더가 정의되었습니다.\")"
      ],
      "metadata": {
        "colab": {
          "base_uri": "https://localhost:8080/"
        },
        "id": "90NazA2tXs2H",
        "outputId": "09529848-5ba9-4ef2-aff2-ad3b2c6c68b7"
      },
      "execution_count": 11,
      "outputs": [
        {
          "output_type": "stream",
          "name": "stdout",
          "text": [
            "인코더 레이어와 전체 인코더가 정의되었습니다.\n"
          ]
        }
      ]
    },
    {
      "cell_type": "markdown",
      "source": [
        "Step 4-4: 디코더 레이어\n"
      ],
      "metadata": {
        "id": "8J-SbPnFXv5s"
      }
    },
    {
      "cell_type": "code",
      "source": [
        "def decoder_layer(units, d_model, num_heads, dropout, name=\"decoder_layer\"):\n",
        "    inputs = tf.keras.Input(shape=(None, d_model), name=\"inputs\")\n",
        "    enc_outputs = tf.keras.Input(shape=(None, d_model), name=\"encoder_outputs\")\n",
        "    look_ahead_mask = tf.keras.Input(shape=(1, None, None), name=\"look_ahead_mask\")\n",
        "    padding_mask = tf.keras.Input(shape=(1, 1, None), name=\"padding_mask\")\n",
        "\n",
        "    attention1 = MultiHeadAttention(\n",
        "        d_model, num_heads, name=\"attention_1\")(inputs={\n",
        "            'query': inputs,\n",
        "            'key': inputs,\n",
        "            'value': inputs,\n",
        "            'mask': look_ahead_mask\n",
        "        })\n",
        "    attention1 = tf.keras.layers.LayerNormalization(epsilon=1e-6)(attention1 + inputs)\n",
        "\n",
        "    attention2 = MultiHeadAttention(\n",
        "        d_model, num_heads, name=\"attention_2\")(inputs={\n",
        "            'query': attention1,\n",
        "            'key': enc_outputs,\n",
        "            'value': enc_outputs,\n",
        "            'mask': padding_mask\n",
        "        })\n",
        "    attention2 = tf.keras.layers.Dropout(rate=dropout)(attention2)\n",
        "    attention2 = tf.keras.layers.LayerNormalization(epsilon=1e-6)(attention2 + attention1)\n",
        "\n",
        "    outputs = tf.keras.layers.Dense(units=units, activation='relu')(attention2)\n",
        "    outputs = tf.keras.layers.Dense(units=d_model)(outputs)\n",
        "    outputs = tf.keras.layers.Dropout(rate=dropout)(outputs)\n",
        "    outputs = tf.keras.layers.LayerNormalization(epsilon=1e-6)(outputs + attention2)\n",
        "\n",
        "    return tf.keras.Model(\n",
        "        inputs=[inputs, enc_outputs, look_ahead_mask, padding_mask],\n",
        "        outputs=outputs,\n",
        "        name=name)\n",
        "\n",
        "print(\"디코더 레이어가 정의되었습니다.\")"
      ],
      "metadata": {
        "colab": {
          "base_uri": "https://localhost:8080/"
        },
        "id": "JCTr0dMoXwh6",
        "outputId": "83a7f326-bc7c-4489-af7d-5e56a67e0d6f"
      },
      "execution_count": 12,
      "outputs": [
        {
          "output_type": "stream",
          "name": "stdout",
          "text": [
            "디코더 레이어가 정의되었습니다.\n"
          ]
        }
      ]
    },
    {
      "cell_type": "markdown",
      "source": [
        "Step 4-5: 전체 디코더\n"
      ],
      "metadata": {
        "id": "mLEJGMdhYEHH"
      }
    },
    {
      "cell_type": "code",
      "source": [
        "def decoder(vocab_size,\n",
        "            num_layers,\n",
        "            units,\n",
        "            d_model,\n",
        "            num_heads,\n",
        "            dropout,\n",
        "            name='decoder'):\n",
        "    inputs = tf.keras.Input(shape=(None,), name='inputs')\n",
        "    enc_outputs = tf.keras.Input(shape=(None, d_model), name='encoder_outputs')\n",
        "    look_ahead_mask = tf.keras.Input(\n",
        "        shape=(1, None, None), name='look_ahead_mask')\n",
        "    padding_mask = tf.keras.Input(shape=(1, 1, None), name='padding_mask')\n",
        "\n",
        "    embeddings = tf.keras.layers.Embedding(vocab_size, d_model)(inputs)\n",
        "    embeddings *= tf.math.sqrt(tf.cast(d_model, tf.float32))\n",
        "    embeddings = PositionalEncoding(vocab_size, d_model)(embeddings)\n",
        "\n",
        "    outputs = tf.keras.layers.Dropout(rate=dropout)(embeddings)\n",
        "\n",
        "    for i in range(num_layers):\n",
        "        outputs = decoder_layer(\n",
        "            units=units,\n",
        "            d_model=d_model,\n",
        "            num_heads=num_heads,\n",
        "            dropout=dropout,\n",
        "            name=f'decoder_layer_{i}',\n",
        "        )([outputs, enc_outputs, look_ahead_mask, padding_mask])\n",
        "\n",
        "    return tf.keras.Model(\n",
        "        inputs=[inputs, enc_outputs, look_ahead_mask, padding_mask],\n",
        "        outputs=outputs,\n",
        "        name=name)\n",
        "print(\"전체 디코더가 정의되었습니다.\")"
      ],
      "metadata": {
        "colab": {
          "base_uri": "https://localhost:8080/"
        },
        "id": "hgZ2zZWGYEg4",
        "outputId": "2544aafb-5986-4986-ae13-efbaf7b1a3eb"
      },
      "execution_count": 13,
      "outputs": [
        {
          "output_type": "stream",
          "name": "stdout",
          "text": [
            "전체 디코더가 정의되었습니다.\n"
          ]
        }
      ]
    },
    {
      "cell_type": "markdown",
      "source": [
        "Step 4-6: 트랜스포머 모델\n"
      ],
      "metadata": {
        "id": "wUfNMLNtYZN_"
      }
    },
    {
      "cell_type": "code",
      "source": [
        "def transformer(vocab_size,\n",
        "                num_layers,\n",
        "                units,\n",
        "                d_model,\n",
        "                num_heads,\n",
        "                dropout,\n",
        "                name=\"transformer\"):\n",
        "    inputs = tf.keras.Input(shape=(None,), name=\"inputs\")\n",
        "    dec_inputs = tf.keras.Input(shape=(None,), name=\"dec_inputs\")\n",
        "\n",
        "    enc_padding_mask = tf.keras.layers.Lambda(\n",
        "        create_padding_mask, output_shape=(1, 1, None),\n",
        "        name='enc_padding_mask')(inputs)\n",
        "    look_ahead_mask = tf.keras.layers.Lambda(\n",
        "        create_look_ahead_mask,\n",
        "        output_shape=(1, None, None),\n",
        "        name='look_ahead_mask')(dec_inputs)\n",
        "    dec_padding_mask = tf.keras.layers.Lambda(\n",
        "        create_padding_mask, output_shape=(1, 1, None),\n",
        "        name='dec_padding_mask')(inputs)\n",
        "\n",
        "    enc_outputs = encoder(\n",
        "        vocab_size=vocab_size,\n",
        "        num_layers=num_layers,\n",
        "        units=units,\n",
        "        d_model=d_model,\n",
        "        num_heads=num_heads,\n",
        "        dropout=dropout,\n",
        "    )(inputs=[inputs, enc_padding_mask])\n",
        "\n",
        "    dec_outputs = decoder(\n",
        "        vocab_size=vocab_size,\n",
        "        num_layers=num_layers,\n",
        "        units=units,\n",
        "        d_model=d_model,\n",
        "        num_heads=num_heads,\n",
        "        dropout=dropout,\n",
        "    )(inputs=[dec_inputs, enc_outputs, look_ahead_mask, dec_padding_mask])\n",
        "\n",
        "    outputs = tf.keras.layers.Dense(units=vocab_size, name=\"outputs\")(dec_outputs)\n",
        "\n",
        "    return tf.keras.Model(inputs=[inputs, dec_inputs], outputs=outputs, name=name)\n",
        "\n",
        "print(\"트랜스포머 모델 함수가 수정되었습니다.\")\n",
        "\n",
        "def create_padding_mask(seq):\n",
        "    seq = tf.cast(tf.math.equal(seq, 0), tf.float32)\n",
        "    return seq[:, tf.newaxis, tf.newaxis, :]  # (batch_size, 1, 1, seq_len)\n",
        "\n",
        "def create_look_ahead_mask(x):\n",
        "    seq_len = tf.shape(x)[1]\n",
        "    mask = 1 - tf.linalg.band_part(tf.ones((seq_len, seq_len)), -1, 0)\n",
        "    return mask[tf.newaxis, tf.newaxis, :, :]  # (1, 1, seq_len, seq_len)\n",
        "\n",
        "print(\"트랜스포머 모델 함수가 수정되었습니다.\")"
      ],
      "metadata": {
        "colab": {
          "base_uri": "https://localhost:8080/"
        },
        "id": "UMfKrEeFYZ1C",
        "outputId": "272b1369-4bae-45c6-dbf8-0215964f6232"
      },
      "execution_count": 14,
      "outputs": [
        {
          "output_type": "stream",
          "name": "stdout",
          "text": [
            "트랜스포머 모델 함수가 수정되었습니다.\n",
            "트랜스포머 모델 함수가 수정되었습니다.\n"
          ]
        }
      ]
    },
    {
      "cell_type": "markdown",
      "source": [
        "Step 4-7: 모델 인스턴스화 및 학습 설정\n"
      ],
      "metadata": {
        "id": "wknEWbLsYcBM"
      }
    },
    {
      "cell_type": "code",
      "source": [
        "# 하이퍼파라미터 설정\n",
        "NUM_LAYERS = 2\n",
        "D_MODEL = 256\n",
        "NUM_HEADS = 8\n",
        "UNITS = 512\n",
        "DROPOUT = 0.1\n",
        "\n",
        "model = transformer(\n",
        "    vocab_size=VOCAB_SIZE,\n",
        "    num_layers=NUM_LAYERS,\n",
        "    units=UNITS,\n",
        "    d_model=D_MODEL,\n",
        "    num_heads=NUM_HEADS,\n",
        "    dropout=DROPOUT)\n",
        "\n",
        "class CustomSchedule(tf.keras.optimizers.schedules.LearningRateSchedule):\n",
        "    def __init__(self, d_model, warmup_steps=4000):\n",
        "        super(CustomSchedule, self).__init__()\n",
        "        self.d_model = d_model\n",
        "        self.d_model = tf.cast(self.d_model, tf.float32)\n",
        "        self.warmup_steps = warmup_steps\n",
        "\n",
        "    def __call__(self, step):\n",
        "        step = tf.cast(step, tf.float32)\n",
        "        arg1 = tf.math.rsqrt(step)\n",
        "        arg2 = step * (self.warmup_steps ** -1.5)\n",
        "        return tf.math.rsqrt(self.d_model) * tf.math.minimum(arg1, arg2)\n",
        "\n",
        "print(\"CustomSchedule 클래스가 수정되었습니다.\")\n",
        "\n",
        "\n",
        "def loss_function(y_true, y_pred):\n",
        "    y_true = tf.reshape(y_true, shape=(-1, MAX_LENGTH - 1))\n",
        "    loss = tf.keras.losses.sparse_categorical_crossentropy(y_true, y_pred[:, :-1, :], from_logits=True)\n",
        "\n",
        "    mask = tf.cast(tf.not_equal(y_true, 0), tf.float32)\n",
        "    loss = tf.multiply(loss, mask)\n",
        "\n",
        "    return tf.reduce_mean(loss)\n",
        "\n",
        "def accuracy(y_true, y_pred):\n",
        "    y_true = tf.reshape(y_true, shape=(-1, MAX_LENGTH - 1))\n",
        "    return tf.keras.metrics.sparse_categorical_accuracy(y_true, y_pred[:, :-1, :])\n",
        "\n",
        "print(\"손실 함수와 정확도 함수가 수정되었습니다.\")\n",
        "\n",
        "# 학습률 조정\n",
        "learning_rate = CustomSchedule(D_MODEL)\n",
        "learning_rate.warmup_steps = 8000  # 웜업 스텝 증가\n",
        "\n",
        "optimizer = tf.keras.optimizers.Adam(learning_rate, beta_1=0.9, beta_2=0.98, epsilon=1e-9)\n",
        "\n",
        "# 모델 재컴파일\n",
        "model.compile(optimizer=optimizer, loss=loss_function, metrics=[accuracy])\n",
        "\n",
        "print(\"모델이 다시 컴파일되었습니다.\")"
      ],
      "metadata": {
        "colab": {
          "base_uri": "https://localhost:8080/"
        },
        "id": "-JZiAwEcYcY0",
        "outputId": "af51ccac-d74b-4cb4-f470-bb1f07808cb3"
      },
      "execution_count": 15,
      "outputs": [
        {
          "output_type": "stream",
          "name": "stdout",
          "text": [
            "CustomSchedule 클래스가 수정되었습니다.\n",
            "손실 함수와 정확도 함수가 수정되었습니다.\n",
            "모델이 다시 컴파일되었습니다.\n"
          ]
        }
      ]
    },
    {
      "cell_type": "markdown",
      "source": [
        "Step 5: 모델 훈련 및 평가\n"
      ],
      "metadata": {
        "id": "WR2Ey-r-Yngl"
      }
    },
    {
      "cell_type": "code",
      "source": [
        "EPOCHS = 20\n",
        "\n",
        "# 체크포인트 설정\n",
        "checkpoint_path = \"./checkpoints/train.weights.h5\"\n",
        "\n",
        "ckpt = tf.train.Checkpoint(transformer=model,\n",
        "                           optimizer=optimizer)\n",
        "\n",
        "ckpt_manager = tf.train.CheckpointManager(ckpt, checkpoint_path, max_to_keep=5)\n",
        "\n",
        "# 체크포인트가 있으면 최신 체크포인트를 복원\n",
        "if ckpt_manager.latest_checkpoint:\n",
        "    ckpt.restore(ckpt_manager.latest_checkpoint)\n",
        "    print('Latest checkpoint restored!!')\n",
        "\n",
        "# 모델 재학습\n",
        "history = model.fit(\n",
        "    dataset,\n",
        "    epochs=EPOCHS,\n",
        "    batch_size=BATCH_SIZE,\n",
        "    callbacks=[\n",
        "        tf.keras.callbacks.EarlyStopping(patience=5, restore_best_weights=True),\n",
        "        tf.keras.callbacks.ModelCheckpoint(\n",
        "            filepath=\"./checkpoints/best_model.weights.h5\",\n",
        "            save_weights_only=True,\n",
        "            save_best_only=True,\n",
        "            monitor='loss'\n",
        "        )\n",
        "    ]\n",
        ")\n",
        "\n",
        "print(\"모델 재학습이 완료되었습니다.\")\n",
        "\n",
        "# 훈련 결과 시각화\n",
        "plt.figure(figsize=(12, 4))\n",
        "\n",
        "plt.subplot(1, 2, 1)\n",
        "plt.plot(history.history['loss'], label='loss')\n",
        "plt.title('Model Loss')\n",
        "plt.xlabel('Epoch')\n",
        "plt.ylabel('Loss')\n",
        "plt.legend()\n",
        "\n",
        "plt.subplot(1, 2, 2)\n",
        "plt.plot(history.history['accuracy'], label='accuracy')\n",
        "plt.title('Model Accuracy')\n",
        "plt.xlabel('Epoch')\n",
        "plt.ylabel('Accuracy')\n",
        "plt.legend()\n",
        "\n",
        "plt.tight_layout()\n",
        "plt.show()\n",
        "\n",
        "print(\"모델 훈련이 완료되었습니다.\")"
      ],
      "metadata": {
        "id": "-VFbwnRnYn6I",
        "colab": {
          "base_uri": "https://localhost:8080/",
          "height": 1000
        },
        "outputId": "5d005329-2156-401a-cb23-9462616fc6d7"
      },
      "execution_count": 16,
      "outputs": [
        {
          "output_type": "stream",
          "name": "stdout",
          "text": [
            "Epoch 1/20\n",
            "\u001b[1m370/370\u001b[0m \u001b[32m━━━━━━━━━━━━━━━━━━━━\u001b[0m\u001b[37m\u001b[0m \u001b[1m0s\u001b[0m 143ms/step - accuracy: 0.0125 - loss: 1.5038"
          ]
        },
        {
          "output_type": "stream",
          "name": "stderr",
          "text": [
            "/usr/local/lib/python3.10/dist-packages/keras/src/callbacks/early_stopping.py:155: UserWarning: Early stopping conditioned on metric `val_loss` which is not available. Available metrics are: accuracy,loss\n",
            "  current = self.get_monitor_value(logs)\n"
          ]
        },
        {
          "output_type": "stream",
          "name": "stdout",
          "text": [
            "\b\b\b\b\b\b\b\b\b\b\b\b\b\b\b\b\b\b\b\b\b\b\b\b\b\b\b\b\b\b\b\b\b\b\b\b\b\b\b\b\b\b\b\b\b\b\b\b\b\b\b\b\b\b\b\b\b\b\b\b\b\b\b\b\b\b\b\b\b\b\b\b\b\b\b\b\r\u001b[1m370/370\u001b[0m \u001b[32m━━━━━━━━━━━━━━━━━━━━\u001b[0m\u001b[37m\u001b[0m \u001b[1m117s\u001b[0m 144ms/step - accuracy: 0.0126 - loss: 1.5036\n",
            "Epoch 2/20\n",
            "\u001b[1m370/370\u001b[0m \u001b[32m━━━━━━━━━━━━━━━━━━━━\u001b[0m\u001b[37m\u001b[0m \u001b[1m3s\u001b[0m 8ms/step - accuracy: 0.0277 - loss: 1.2043\n",
            "Epoch 3/20\n",
            "\u001b[1m370/370\u001b[0m \u001b[32m━━━━━━━━━━━━━━━━━━━━\u001b[0m\u001b[37m\u001b[0m \u001b[1m3s\u001b[0m 8ms/step - accuracy: 0.0462 - loss: 1.0000\n",
            "Epoch 4/20\n",
            "\u001b[1m370/370\u001b[0m \u001b[32m━━━━━━━━━━━━━━━━━━━━\u001b[0m\u001b[37m\u001b[0m \u001b[1m3s\u001b[0m 8ms/step - accuracy: 0.0578 - loss: 0.9050\n",
            "Epoch 5/20\n",
            "\u001b[1m370/370\u001b[0m \u001b[32m━━━━━━━━━━━━━━━━━━━━\u001b[0m\u001b[37m\u001b[0m \u001b[1m3s\u001b[0m 8ms/step - accuracy: 0.0719 - loss: 0.7792\n",
            "Epoch 6/20\n",
            "\u001b[1m370/370\u001b[0m \u001b[32m━━━━━━━━━━━━━━━━━━━━\u001b[0m\u001b[37m\u001b[0m \u001b[1m3s\u001b[0m 8ms/step - accuracy: 0.0889 - loss: 0.6291\n",
            "Epoch 7/20\n",
            "\u001b[1m370/370\u001b[0m \u001b[32m━━━━━━━━━━━━━━━━━━━━\u001b[0m\u001b[37m\u001b[0m \u001b[1m3s\u001b[0m 8ms/step - accuracy: 0.1072 - loss: 0.4885\n",
            "Epoch 8/20\n",
            "\u001b[1m370/370\u001b[0m \u001b[32m━━━━━━━━━━━━━━━━━━━━\u001b[0m\u001b[37m\u001b[0m \u001b[1m3s\u001b[0m 8ms/step - accuracy: 0.1255 - loss: 0.3680\n",
            "Epoch 9/20\n",
            "\u001b[1m370/370\u001b[0m \u001b[32m━━━━━━━━━━━━━━━━━━━━\u001b[0m\u001b[37m\u001b[0m \u001b[1m3s\u001b[0m 8ms/step - accuracy: 0.1447 - loss: 0.2605\n",
            "Epoch 10/20\n",
            "\u001b[1m370/370\u001b[0m \u001b[32m━━━━━━━━━━━━━━━━━━━━\u001b[0m\u001b[37m\u001b[0m \u001b[1m3s\u001b[0m 8ms/step - accuracy: 0.1592 - loss: 0.1778\n",
            "Epoch 11/20\n",
            "\u001b[1m370/370\u001b[0m \u001b[32m━━━━━━━━━━━━━━━━━━━━\u001b[0m\u001b[37m\u001b[0m \u001b[1m3s\u001b[0m 8ms/step - accuracy: 0.1654 - loss: 0.1122\n",
            "Epoch 12/20\n",
            "\u001b[1m370/370\u001b[0m \u001b[32m━━━━━━━━━━━━━━━━━━━━\u001b[0m\u001b[37m\u001b[0m \u001b[1m3s\u001b[0m 8ms/step - accuracy: 0.1687 - loss: 0.0719\n",
            "Epoch 13/20\n",
            "\u001b[1m370/370\u001b[0m \u001b[32m━━━━━━━━━━━━━━━━━━━━\u001b[0m\u001b[37m\u001b[0m \u001b[1m3s\u001b[0m 8ms/step - accuracy: 0.1702 - loss: 0.0463\n",
            "Epoch 14/20\n",
            "\u001b[1m370/370\u001b[0m \u001b[32m━━━━━━━━━━━━━━━━━━━━\u001b[0m\u001b[37m\u001b[0m \u001b[1m3s\u001b[0m 8ms/step - accuracy: 0.1718 - loss: 0.0308\n",
            "Epoch 15/20\n",
            "\u001b[1m370/370\u001b[0m \u001b[32m━━━━━━━━━━━━━━━━━━━━\u001b[0m\u001b[37m\u001b[0m \u001b[1m3s\u001b[0m 8ms/step - accuracy: 0.1710 - loss: 0.0266\n",
            "Epoch 16/20\n",
            "\u001b[1m370/370\u001b[0m \u001b[32m━━━━━━━━━━━━━━━━━━━━\u001b[0m\u001b[37m\u001b[0m \u001b[1m3s\u001b[0m 8ms/step - accuracy: 0.1723 - loss: 0.0222\n",
            "Epoch 17/20\n",
            "\u001b[1m370/370\u001b[0m \u001b[32m━━━━━━━━━━━━━━━━━━━━\u001b[0m\u001b[37m\u001b[0m \u001b[1m3s\u001b[0m 8ms/step - accuracy: 0.1717 - loss: 0.0224\n",
            "Epoch 18/20\n",
            "\u001b[1m370/370\u001b[0m \u001b[32m━━━━━━━━━━━━━━━━━━━━\u001b[0m\u001b[37m\u001b[0m \u001b[1m3s\u001b[0m 7ms/step - accuracy: 0.1716 - loss: 0.0232\n",
            "Epoch 19/20\n",
            "\u001b[1m370/370\u001b[0m \u001b[32m━━━━━━━━━━━━━━━━━━━━\u001b[0m\u001b[37m\u001b[0m \u001b[1m3s\u001b[0m 7ms/step - accuracy: 0.1716 - loss: 0.0250\n",
            "Epoch 20/20\n",
            "\u001b[1m370/370\u001b[0m \u001b[32m━━━━━━━━━━━━━━━━━━━━\u001b[0m\u001b[37m\u001b[0m \u001b[1m3s\u001b[0m 7ms/step - accuracy: 0.1712 - loss: 0.0265\n",
            "모델 재학습이 완료되었습니다.\n"
          ]
        },
        {
          "output_type": "display_data",
          "data": {
            "text/plain": [
              "<Figure size 1200x400 with 2 Axes>"
            ],
            "image/png": "[encoded data removed]"
          },
          "metadata": {}
        },
        {
          "output_type": "stream",
          "name": "stdout",
          "text": [
            "모델 훈련이 완료되었습니다.\n"
          ]
        }
      ]
    },
    {
      "cell_type": "markdown",
      "source": [
        "Step 5. 모델 평가하기\n",
        "\n",
        "Step 1에서 선택한 전처리 방법을 고려하여 입력된 문장에 대해서 대답을 얻는 예측 함수를 만듭니다.\n",
        "\n"
      ],
      "metadata": {
        "id": "HdYDQAlIjVp5"
      }
    },
    {
      "cell_type": "code",
      "source": [
        "def predict_response(input_sentence):\n",
        "    # 입력 문장 전처리\n",
        "    input_sentence = preprocess_sentence(input_sentence)\n",
        "\n",
        "    # 입력 문장을 정수 인코딩 후, 시작 토큰과 종료 토큰을 추가\n",
        "    input_sequence = START_TOKEN + tokenizer.encode(input_sentence) + END_TOKEN\n",
        "    input_sequence = tf.expand_dims(input_sequence, 0)\n",
        "\n",
        "    # 출력 시퀀스 초기화\n",
        "    output_sequence = tf.expand_dims(START_TOKEN, 0)\n",
        "\n",
        "    for i in range(MAX_LENGTH):\n",
        "        predictions = model(inputs=[input_sequence, output_sequence], training=False)\n",
        "\n",
        "        # 다음 토큰 예측\n",
        "        predicted_id = tf.cast(tf.argmax(predictions[:, -1:, :], axis=-1), tf.int32)\n",
        "\n",
        "        # 예측된 토큰을 출력 시퀀스에 추가\n",
        "        output_sequence = tf.concat([output_sequence, predicted_id], axis=-1)\n",
        "\n",
        "        # 종료 토큰이 예측되면 루프 종료\n",
        "        if predicted_id == END_TOKEN:\n",
        "            break\n",
        "\n",
        "    # 예측된 시퀀스를 디코딩하여 문장으로 변환\n",
        "    predicted_sentence = tokenizer.decode(\n",
        "        [i for i in output_sequence[0] if i < tokenizer.vocab_size]\n",
        "    )\n",
        "\n",
        "    return predicted_sentence\n",
        "\n",
        "# 모델 평가\n",
        "def evaluate_model():\n",
        "    test_sentences = [\n",
        "        \"안녕하세요\",\n",
        "        \"오늘 날씨가 어때요?\",\n",
        "        \"기분이 좋아요\",\n",
        "        \"영화 보러 갈까요?\",\n",
        "        \"맛있는 음식 추천해주세요\"\n",
        "    ]\n",
        "\n",
        "    print(\"모델 평가 결과:\")\n",
        "    for sentence in test_sentences:\n",
        "        response = predict_response(sentence)\n",
        "        print(f\"입력: {sentence}\")\n",
        "        print(f\"출력: {response}\")\n",
        "        print()\n",
        "\n",
        "# 모델 평가 실행\n",
        "evaluate_model()"
      ],
      "metadata": {
        "id": "kYFJcUivIN2y",
        "colab": {
          "base_uri": "https://localhost:8080/"
        },
        "outputId": "720a6d68-19ba-4eaa-aea3-eef73635097d"
      },
      "execution_count": 19,
      "outputs": [
        {
          "output_type": "stream",
          "name": "stdout",
          "text": [
            "모델 평가 결과:\n",
            "입력: 안녕하세요\n",
            "출력: 안녕하세요\n",
            "\n",
            "입력: 오늘 날씨가 어때요?\n",
            "출력: 오늘 날씨가 어때요 ?\n",
            "\n",
            "입력: 기분이 좋아요\n",
            "출력: 기분이 좋아요\n",
            "\n",
            "입력: 영화 보러 갈까요?\n",
            "출력: 영화 보러 힘들거예요요 ?\n",
            "\n",
            "입력: 맛있는 음식 추천해주세요\n",
            "출력: 맛있는 음식 추천해주세요\n",
            "\n"
          ]
        }
      ]
    },
    {
      "cell_type": "markdown",
      "source": [
        "# 회고\n",
        "\n",
        "- LMS6 학습부터 코드를 작성하는 것 보다 전체 흐름을 이해하는 것이 우선 급선무였습니다.\n",
        "- 클래스내 함수와 다른 클래스의 함수간의 관계 및 함수 호출의 구조를 이해하기에 난이도가 꽤 있었습니다.\n",
        "- 아직도 설명하라고 하면 쉽지 않을 것 같습니다.\n",
        "- 클로드의 도움을 받아서 에러를 수정하다보니 기능을 보완하다가 규모가 더 커졌습니다.\n",
        "- 질문에 대한 답변이 올바르게 이루어 지지 않았습니다. 구조상 어디가 문제인지는 아직 알 수 없습니다.\n",
        "- 안정감 있게 구조를 이해한 이후에 필수적인 코드를 작성하고 코드 오류를 수정하는 것이 가능할 것 같습니다.\n",
        "- 실용적인 챗봇에 비하면 난이도가 낮은 편이겠지만 제 상황에 걸맞는 프로그램 훈련이 필요해보입니다.\n",
        "- 다시 학습하고 오류 없도록 수정하는 동안 건강한 스트레스가 좋은 영향을 미친 것 같습니다."
      ],
      "metadata": {
        "id": "0n98YASNjY9b"
      }
    }
  ]
}